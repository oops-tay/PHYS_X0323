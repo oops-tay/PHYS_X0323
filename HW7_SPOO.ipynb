{
 "cells": [
  {
   "cell_type": "code",
   "execution_count": 16,
   "metadata": {},
   "outputs": [],
   "source": [
    "#TAYLOR SPOO\n",
    "#ASSIGNMENT 7\n",
    "#STARTED OCT. 16, 2019\n",
    "\n",
    "#imports\n",
    "from math import pi, cos, sin, log\n",
    "import numpy as np\n",
    "from matplotlib import pyplot as plt"
   ]
  },
  {
   "cell_type": "code",
   "execution_count": 48,
   "metadata": {},
   "outputs": [
    {
     "data": {
      "image/png": "[encoded data removed]",
      "text/plain": [
       "<Figure size 432x288 with 1 Axes>"
      ]
     },
     "metadata": {
      "needs_background": "light"
     },
     "output_type": "display_data"
    }
   ],
   "source": [
    "#PROBLEM 1: MONTE CARLO DISTRIVUTION\n",
    "\n",
    "#variables\n",
    "std = 2 #standard deviation, sigma\n",
    "mean = -1 #z-naught\n",
    "\n",
    "def r(sig): #this function generates the r values\n",
    "    m = np.random.rand()\n",
    "    return (-2*(sig**2)*log(1-m))**(1/2)\n",
    "\n",
    "def x_val(Rad): #this function takes the random r and theta to generate the x values\n",
    "    theta = 2*pi*np.random.rand()\n",
    "    return Rad*cos(theta)\n",
    "\n",
    "def y_val(R): #this function takes the random r and theta to generate the y values\n",
    "    theta = 2*pi*np.random.rand()\n",
    "    return R*sin(theta)\n",
    "\n",
    "#generate 1000 random deviates\n",
    "count = 0\n",
    "x_list = []\n",
    "y_list = []\n",
    "z_list = []\n",
    "while count<1000:\n",
    "    radius = r(std)\n",
    "    x = x_val(radius)\n",
    "    y = y_val(radius)\n",
    "    z = x+mean #gaussian shift\n",
    "    x_list.append(x)\n",
    "    y_list.append(y)\n",
    "    z_list.append(z)\n",
    "    count+=1\n",
    "    \n",
    "#print(len(x_list))\n",
    "#print(type(x_list))\n",
    "#print(x_list)\n",
    "#print(z_list)\n",
    "plt.hist(z_list, 100, color=\"c\")\n",
    "plt.xlabel(\"Z Values\")\n",
    "plt.ylabel(\"Counts\")\n",
    "plt.grid()"
   ]
  },
  {
   "cell_type": "code",
   "execution_count": 41,
   "metadata": {},
   "outputs": [],
   "source": [
    "#PROBLEM 2: RADIOACTIVE DECAY\n",
    "\n",
    "#inital atom count\n",
    "NBi213 = 10000\n",
    "NPb = 0\n",
    "NTl = 0\n",
    "NBi209 = 0\n",
    "\n",
    "#half-life for each element\n",
    "tauTl = 2.2*60 #[s]\n",
    "tauPb = 3.3*60 #[s]\n",
    "tauBi213 = 46*60 #[s]\n",
    "\n",
    "#time parameters\n",
    "tstep = 1.0 #size of the time step, [s]\n",
    "tmax = 20000 #total time\n",
    "\n",
    "#prob of decay for a single atom in one step\n",
    "def prob_decay(tau):\n",
    "    return 1-2**(-tstep/tau)\n",
    "\n",
    "#create lists of atoms\n",
    "tvals = np.arange(0.0,tmax,tstep)\n",
    "Bi213vals = []\n",
    "Pbvals = []\n",
    "Tlvals = []\n",
    "Bi209vals = []"
   ]
  },
  {
   "cell_type": "code",
   "execution_count": 42,
   "metadata": {},
   "outputs": [
    {
     "name": "stdout",
     "output_type": "stream",
     "text": [
      "9970\n",
      "30\n",
      "10000\n"
     ]
    }
   ],
   "source": [
    "for t in tvals:\n",
    "    Bi213vals.append(NBi213)\n",
    "    Tlvals.append(NTl)\n",
    "    Pbvals.append(NPb)\n",
    "    Bi209vals.append(NBi209)\n",
    "    \n",
    "    #intial count of decays\n",
    "    decay1=0\n",
    "    decay2=0\n",
    "    decay3=0\n",
    "    \n",
    "    for i in range(NPb):\n",
    "        if np.random.rand() < prob_decay(tauPb):\n",
    "            decay1+=1\n",
    "    NPb -= decay1\n",
    "    NBi209 += decay1\n",
    "    \n",
    "    for j in range(NTl):\n",
    "        if np.random.rand() < prob_decay(tauTl):\n",
    "            decay2+=1\n",
    "    NTl -= decay2\n",
    "    NPb += decay2\n",
    "    \n",
    "    for k in range(NBi213):\n",
    "        if np.random.rand() < prob_decay(tauBi213):\n",
    "            decay3+=1\n",
    "            if np.random.rand() > 0.0209:\n",
    "                #decays to Pb\n",
    "                NPb += decay3\n",
    "                NBi213 -= decay3\n",
    "            else:\n",
    "                #decays to Tl\n",
    "                NTl += decay3\n",
    "                NBi213 -= decay3\n",
    "# logic check\n",
    "dp=Pbvals[-1]+Tlvals[-1]+Bi209vals[-1]\n",
    "Bip=Bi213vals[-1]\n",
    "print(dp)\n",
    "print(Bip)\n",
    "print(dp+Bip)"
   ]
  },
  {
   "cell_type": "code",
   "execution_count": 47,
   "metadata": {},
   "outputs": [
    {
     "data": {
      "text/plain": [
       "<matplotlib.legend.Legend at 0x11e268668>"
      ]
     },
     "execution_count": 47,
     "metadata": {},
     "output_type": "execute_result"
    },
    {
     "data": {
      "image/png": "[encoded data removed]",
      "text/plain": [
       "<Figure size 432x288 with 1 Axes>"
      ]
     },
     "metadata": {
      "needs_background": "light"
     },
     "output_type": "display_data"
    }
   ],
   "source": [
    "#plotting\n",
    "fig = plt.figure()\n",
    "ax = fig.add_subplot(111)\n",
    "ax.scatter(tvals,Bi213vals, c=\"b\", label=\"Bi213\")\n",
    "ax.scatter(tvals,Tlvals,c=\"m\", label=\"Tl209\")\n",
    "ax.scatter(tvals,Pbvals,c=\"k\", label=\"Pb209\")\n",
    "ax.scatter(tvals,Bi209vals,c=\"c\", label=\"Bi209\")\n",
    "ax.set_xlabel(\"$Time$ $(s)$\", size=20)\n",
    "ax.set_ylabel(\"# of Atoms\", size=20)\n",
    "ax.xaxis.set_tick_params(labelsize=20)\n",
    "ax.yaxis.set_tick_params(labelsize=20)\n",
    "ax.grid()\n",
    "ax.legend()"
   ]
  },
  {
   "cell_type": "code",
   "execution_count": null,
   "metadata": {},
   "outputs": [],
   "source": []
  }
 ],
 "metadata": {
  "kernelspec": {
   "display_name": "Python 3",
   "language": "python",
   "name": "python3"
  },
  "language_info": {
   "codemirror_mode": {
    "name": "ipython",
    "version": 3
   },
   "file_extension": ".py",
   "mimetype": "text/x-python",
   "name": "python",
   "nbconvert_exporter": "python",
   "pygments_lexer": "ipython3",
   "version": "3.7.3"
  }
 },
 "nbformat": 4,
 "nbformat_minor": 2
}
