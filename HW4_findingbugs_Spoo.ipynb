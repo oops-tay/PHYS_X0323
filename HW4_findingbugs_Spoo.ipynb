{
 "cells": [
  {
   "cell_type": "code",
   "execution_count": 23,
   "metadata": {},
   "outputs": [
    {
     "name": "stdout",
     "output_type": "stream",
     "text": [
      "nope\n"
     ]
    }
   ],
   "source": [
    "#Conditions\n",
    "location = 'Cali'\n",
    "pay = 25\n",
    "\n",
    "if location == 'USS E':\n",
    "    print(\"So long!\")\n",
    "elif location == 'Mass':\n",
    "    if pay < 100:\n",
    "        print('no way')\n",
    "    else: print('sure')\n",
    "elif location == 'Cali' and pay > 40:\n",
    "    print('take')\n",
    "elif pay > 60:\n",
    "    print('take')\n",
    "else: print('nope')"
   ]
  },
  {
   "cell_type": "code",
   "execution_count": 26,
   "metadata": {},
   "outputs": [
    {
     "name": "stdout",
     "output_type": "stream",
     "text": [
      "integer divison answer: 10000 remainder: 0\n",
      "a is big: True\n"
     ]
    },
    {
     "data": {
      "text/plain": [
       "(10000, 0)"
      ]
     },
     "execution_count": 26,
     "metadata": {},
     "output_type": "execute_result"
    }
   ],
   "source": [
    "#Finding Bugs\n",
    "a=420000\n",
    "b=42\n",
    "\n",
    "def quotient(int1,int2):\n",
    "    return(int1//int2, int1%int2)\n",
    "\n",
    "def larger_num(num):\n",
    "    if num > 10000:\n",
    "        return(True)\n",
    "    else: return(False)\n",
    "\n",
    "print('integer divison answer:', quotient(a,b)[0], 'remainder:', quotient(a,b)[1])\n",
    "print('a is big:', larger_num(a))"
   ]
  },
  {
   "cell_type": "code",
   "execution_count": null,
   "metadata": {},
   "outputs": [
    {
     "name": "stdout",
     "output_type": "stream",
     "text": [
      "Think of a number between 1 and 100, but don't tell me you choose.\n"
     ]
    }
   ],
   "source": [
    "#Mystery Program\n",
    "\n",
    "print(\"Think of a number between 1 and 100, but don't tell me you choose.\")\n",
    "min_n=1\n",
    "max_n=100\n",
    "right_answer = False\n",
    "while not right_answer:\n",
    "    mid_n = (max_n+min_n+1)//2\n",
    "    answer = input('Is it'+str(mid_n)+'?')\n",
    "    if answer[0] == 'y':\n",
    "        right_answer = True\n",
    "    elif answer.startswith('higher'):\n",
    "        min_n = mid_n + 1\n",
    "    elif answer.startswith('lower'):\n",
    "        max_n = mid_n-1\n",
    "    else:\n",
    "        print(\"Sorry, I don't understand you answer\")\n",
    "\n",
    "print('Woohoo! I got it!')"
   ]
  },
  {
   "cell_type": "code",
   "execution_count": null,
   "metadata": {},
   "outputs": [],
   "source": []
  }
 ],
 "metadata": {
  "kernelspec": {
   "display_name": "Python 3",
   "language": "python",
   "name": "python3"
  },
  "language_info": {
   "codemirror_mode": {
    "name": "ipython",
    "version": 3
   },
   "file_extension": ".py",
   "mimetype": "text/x-python",
   "name": "python",
   "nbconvert_exporter": "python",
   "pygments_lexer": "ipython3",
   "version": "3.7.3"
  }
 },
 "nbformat": 4,
 "nbformat_minor": 2
}
