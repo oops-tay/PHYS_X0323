{
 "cells": [
  {
   "cell_type": "code",
   "execution_count": 1,
   "metadata": {},
   "outputs": [
    {
     "name": "stdout",
     "output_type": "stream",
     "text": [
      "x value with positive radical on top: -9.999894245993346e-07\n",
      "x value with negative radical on top: -999999.999999\n",
      "x value with positive radical on bottom: -1000010.5755125057\n",
      "x value with negative radical on bottom: -1.000000000001e-06\n",
      "1.0575401665491313e-08\n",
      "7.247924804689582e-08\n",
      "10575.62534720993\n",
      "0.0\n"
     ]
    }
   ],
   "source": [
    "#Taylor Spoo\n",
    "#Started 9/30/19\n",
    "#Problem 1: Quadratic Eqn\n",
    "\n",
    "#coeff values\n",
    "A = 0.001\n",
    "B = 1000\n",
    "C = 0.001\n",
    "\n",
    "def fn(x):\n",
    "    return A*x**2+B*x+C\n",
    "\n",
    "def x(a,b,c):\n",
    "    #normal soln for solving the quad. eqn\n",
    "    pos_rad = (-b + (b**2 - (4*a*c))**(1/2))/(2*a)\n",
    "    neg_rad = (-b - (b**2 - (4*a*c))**(1/2))/(2*a)\n",
    "    \n",
    "    #mutliply top and bottom of the soln above by -b-+sqrt(b**2-4ac)\n",
    "    inv_pos_rad = (2*c)/(-b + (b**2 - (4*a*c))**(1/2))\n",
    "    inv_neg_rad = (2*c)/(-b - (b**2 - (4*a*c))**(1/2))\n",
    "    \n",
    "    return pos_rad, neg_rad, inv_pos_rad, inv_neg_rad\n",
    "\n",
    "#solving for x\n",
    "print(\"x value with positive radical on top:\", x(A, B, C)[0]) \n",
    "print(\"x value with negative radical on top:\", x(A, B, C)[1])\n",
    "print(\"x value with positive radical on bottom:\", x(A, B, C)[2])\n",
    "print(\"x value with negative radical on bottom:\", x(A, B, C)[3])\n",
    "\n",
    "#checking my x values\n",
    "print(fn(x(A,B,C)[0])) \n",
    "print(fn(x(A,B,C)[1]))\n",
    "print(fn(x(A,B,C)[2]))\n",
    "print(fn(x(A,B,C)[3]))"
   ]
  },
  {
   "cell_type": "markdown",
   "metadata": {},
   "source": [
    "There is a problem finding the value of x in the quadratic formula. As the value of 4ac approaches zero, the radical in the numerator is approximately b. When this happens we have error due to subtracting two values that are very close to each other."
   ]
  },
  {
   "cell_type": "code",
   "execution_count": 25,
   "metadata": {},
   "outputs": [
    {
     "name": "stdout",
     "output_type": "stream",
     "text": [
      "(999999.999999, 1.000000000001e-06)\n",
      "7.247924804689582e-08\n",
      "0.0\n"
     ]
    }
   ],
   "source": [
    "#Part C\n",
    "def gen_x(a,b,c):\n",
    "    posrad_top = (-b + (b**2 - (4*a*c))**(1/2))/(2*a) #positive radical on top\n",
    "    negrad_top = (-b - (b**2 - (4*a*c))**(1/2))/(2*a) #negative radical on top\n",
    "    posrad_bot = (2*c)/(-b + (b**2 - (4*a*c))**(1/2)) #pos rad on bottom\n",
    "    negrad_bot = (2*c)/(-b - (b**2 - (4*a*c))**(1/2)) #neg rad on bottom\n",
    "    if 4*a*c < 10e-6:\n",
    "        if b>0:return negrad_top, negrad_bot\n",
    "        else: return posrad_top, posrad_bot \n",
    "    else: return posrad_top, posrad_bot\n",
    "\n",
    "#solving for x\n",
    "print(gen_x(A,B,C))\n",
    "\n",
    "#checking my values\n",
    "print(fn(gen_x(A,B,C)[0]))\n",
    "print(fn(gen_x(A,B,C)[1]))"
   ]
  },
  {
   "cell_type": "code",
   "execution_count": 9,
   "metadata": {},
   "outputs": [
    {
     "name": "stdout",
     "output_type": "stream",
     "text": [
      "With A= 58 and Z= 28 ,B= 490.78425241273493 and B/A= 8.46179745539198\n",
      "With A= 59 and Z= 28 ,B= 498.144677545714 and B/A= 8.443130127893458\n",
      "With A= 58 and Z= 27 ,B= 485.30934897614435 and B/A= 8.367402568554214\n"
     ]
    }
   ],
   "source": [
    "#Problem 2\n",
    "#The semi-empirical mass formula\n",
    "\n",
    "a_1 = 15.67\n",
    "a_2 = 17.23\n",
    "a_3 = 0.75\n",
    "a_4 = 93.2\n",
    "\n",
    "def bind_E(A,Z):\n",
    "    if A%2==1:a_5=0\n",
    "    elif A%2==0 and Z%2==0: a_5=12.0\n",
    "    elif A%2==0 and Z%2==1: a_5=-12.0   \n",
    "    return a_1*A-(a_2*(A)**(2/3))-(a_3*(Z**2/(A)**(1/3)))\\\n",
    "-((a_4*(A-(2*Z))**2)/A)-(a_5/(A**(1/2)))\n",
    "\n",
    "A1=58\n",
    "Z1=28\n",
    "A2=59\n",
    "Z2=27\n",
    "\n",
    "print(\"With A=\",A1, \"and Z=\", Z1,\",B=\", bind_E(A1,Z1), \"and B/A=\", bind_E(A1,Z1)/A1)\n",
    "print(\"With A=\",A2, \"and Z=\", Z1,\",B=\", bind_E(A2,Z1), \"and B/A=\", bind_E(A2,Z1)/A2)\n",
    "print(\"With A=\",A1, \"and Z=\", Z2,\",B=\", bind_E(A1,Z2),\"and B/A=\", bind_E(A1,Z2)/A1)"
   ]
  },
  {
   "cell_type": "code",
   "execution_count": null,
   "metadata": {},
   "outputs": [],
   "source": []
  }
 ],
 "metadata": {
  "kernelspec": {
   "display_name": "Python 3",
   "language": "python",
   "name": "python3"
  },
  "language_info": {
   "codemirror_mode": {
    "name": "ipython",
    "version": 3
   },
   "file_extension": ".py",
   "mimetype": "text/x-python",
   "name": "python",
   "nbconvert_exporter": "python",
   "pygments_lexer": "ipython3",
   "version": "3.7.3"
  }
 },
 "nbformat": 4,
 "nbformat_minor": 2
}
