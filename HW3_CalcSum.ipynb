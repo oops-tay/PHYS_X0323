{
 "cells": [
  {
   "cell_type": "markdown",
   "metadata": {},
   "source": [
    "This is to calculate e^(-x)"
   ]
  },
  {
   "cell_type": "code",
   "execution_count": 12,
   "metadata": {},
   "outputs": [],
   "source": [
    "#imports box\n",
    "import numpy as np"
   ]
  },
  {
   "cell_type": "code",
   "execution_count": 13,
   "metadata": {},
   "outputs": [
    {
     "name": "stdout",
     "output_type": "stream",
     "text": [
      "when x= 0 [1.0]\n",
      "when x= 10 [4.5399929433607724e-05]\n",
      "when x= 20 [5.47810291652921e-10]\n",
      "when x= 30 [-8.553015166809626e-05]\n",
      "when x= 40 [49.09202479846769]\n",
      "when x= 50 [280505299862.04175]\n",
      "when x= 60 [2.6148788892844e+19]\n",
      "when x= 70 [1.422139023160008e+26]\n",
      "when x= 80 [9.670915059441866e+31]\n",
      "when x= 90 [1.3444010278471489e+37]\n",
      "when x= 100 [5.344124163786122e+41]\n"
     ]
    }
   ],
   "source": [
    "#SIMPLE METHOD\n",
    "X_vals=range(0,101,10)\n",
    "def S(X,N):\n",
    "    return(((-1)**N)*(X**N))/np.math.factorial(N)\n",
    "for X in X_vals:\n",
    "    sn=0\n",
    "    for i in range(0,101):\n",
    "        exp_list1=[]\n",
    "        s=S(X,i)\n",
    "        sn+=s\n",
    "        exp_list1.append(sn)\n",
    "    print(\"when x=\", X, exp_list1)"
   ]
  },
  {
   "cell_type": "code",
   "execution_count": 14,
   "metadata": {},
   "outputs": [
    {
     "name": "stdout",
     "output_type": "stream",
     "text": [
      "when x= 0 [1.0]\n",
      "when x= 10 [4.539993005892029e-05]\n",
      "when x= 20 [2.9802322387695312e-08]\n",
      "when x= 30 [0.0007324267853270332]\n",
      "when x= 40 [46.678090656100466]\n",
      "when x= 50 [280505165963.6809]\n",
      "when x= 60 [2.6148788887739163e+19]\n",
      "when x= 70 [1.4221390231584124e+26]\n",
      "when x= 80 [9.670915059441891e+31]\n",
      "when x= 90 [1.3444010278471489e+37]\n",
      "when x= 100 [5.344124163786117e+41]\n"
     ]
    }
   ],
   "source": [
    "#RECURSION METHOD\n",
    "so=1 #calc by hand\n",
    "XS=range(0,101,10)\n",
    "#exp_list=[]\n",
    "for x in XS:\n",
    "    sn_list=[so]\n",
    "    #exp_list=[]\n",
    "    for n in range(1,101): \n",
    "        exp_list=[]\n",
    "        s_old=sn_list[-1]\n",
    "        s_new=((-1)*s_old*x)/n\n",
    "        sn_list.append(s_new)\n",
    "        total_sn=np.sum(sn_list)\n",
    "        exp_list.append(total_sn)\n",
    "    print(\"when x=\", x, exp_list)\n",
    "# since our for loop isnt based on our precision the sn values get crazy.\n",
    "# we should use a while loop to keep precision for each calcuation of x values"
   ]
  },
  {
   "cell_type": "code",
   "execution_count": 33,
   "metadata": {},
   "outputs": [
    {
     "name": "stdout",
     "output_type": "stream",
     "text": [
      "when x= 0 1.0\n",
      "when x= 10 4.539992976248486e-05\n",
      "when x= 20 2.0611536224385583e-09\n",
      "when x= 30 9.357622968840171e-14\n",
      "when x= 40 4.24835425529159e-18\n",
      "when x= 50 1.9287498479639164e-22\n",
      "when x= 60 8.75651076269652e-27\n",
      "when x= 70 3.975449735908648e-31\n",
      "when x= 80 1.8048513878454156e-35\n",
      "when x= 90 8.194012623990511e-40\n",
      "when x= 100 3.7200759760208356e-44\n"
     ]
    }
   ],
   "source": [
    "#INVERSE METHOD\n",
    "def invSn(X,N):\n",
    "    return(((x)**n)/np.math.factorial(n))\n",
    "for x in XS:\n",
    "    value=0\n",
    "    for n in range(0,1001):\n",
    "        s=invSn(x,n)\n",
    "        value+=s\n",
    "    print(\"when x=\", x, 1/value)"
   ]
  },
  {
   "cell_type": "code",
   "execution_count": 28,
   "metadata": {},
   "outputs": [
    {
     "name": "stdout",
     "output_type": "stream",
     "text": [
      "when x= 0 1.0\n",
      "when x= 10 4.5399929762484854e-05\n",
      "when x= 20 2.061153622438558e-09\n",
      "when x= 30 9.357622968840175e-14\n",
      "when x= 40 4.248354255291589e-18\n",
      "when x= 50 1.9287498479639178e-22\n",
      "when x= 60 8.75651076269652e-27\n",
      "when x= 70 3.975449735908647e-31\n",
      "when x= 80 1.8048513878454153e-35\n",
      "when x= 90 8.194012623990515e-40\n",
      "when x= 100 3.720075976020836e-44\n"
     ]
    }
   ],
   "source": [
    "#NUMPY VERSION\n",
    "for x in XS:\n",
    "    e_list=[]\n",
    "    expval=np.exp(x)\n",
    "    e_list.append(expval)\n",
    "    print (\"when x=\", x, np.exp(-x))"
   ]
  },
  {
   "cell_type": "code",
   "execution_count": null,
   "metadata": {},
   "outputs": [],
   "source": []
  }
 ],
 "metadata": {
  "kernelspec": {
   "display_name": "Python 3",
   "language": "python",
   "name": "python3"
  },
  "language_info": {
   "codemirror_mode": {
    "name": "ipython",
    "version": 3
   },
   "file_extension": ".py",
   "mimetype": "text/x-python",
   "name": "python",
   "nbconvert_exporter": "python",
   "pygments_lexer": "ipython3",
   "version": "3.7.3"
  }
 },
 "nbformat": 4,
 "nbformat_minor": 2
}
