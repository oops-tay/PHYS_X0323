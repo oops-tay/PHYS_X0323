{
 "cells": [
  {
   "cell_type": "markdown",
   "metadata": {},
   "source": [
    "Finding the altitude above Earth surface that the satellite must have"
   ]
  },
  {
   "cell_type": "code",
   "execution_count": 16,
   "metadata": {},
   "outputs": [
    {
     "name": "stdout",
     "output_type": "stream",
     "text": [
      "279.32162537285967 km\n"
     ]
    }
   ],
   "source": [
    "from math import pi\n",
    "#constants\n",
    "G=6.67*(10**(-11)) #grav constant. units [m^3/kgs^2]\n",
    "M=5.97*(10**24) #earth's mass. units [kg]\n",
    "R=6371000 #erth's radius. units [m]\n",
    "\n",
    "#fn to calc the hieght\n",
    "def altitude(t):\n",
    "    T=t*60 #converts min to sec\n",
    "    H=(((G*M*(T**2)/(4*(pi**2)))**(1/3)))-R\n",
    "    h=H/1000 #converts m to km\n",
    "    return h\n",
    "\n",
    "print(altitude(90),\"km\")"
   ]
  },
  {
   "cell_type": "code",
   "execution_count": null,
   "metadata": {},
   "outputs": [],
   "source": []
  }
 ],
 "metadata": {
  "kernelspec": {
   "display_name": "Python 3",
   "language": "python",
   "name": "python3"
  },
  "language_info": {
   "codemirror_mode": {
    "name": "ipython",
    "version": 3
   },
   "file_extension": ".py",
   "mimetype": "text/x-python",
   "name": "python",
   "nbconvert_exporter": "python",
   "pygments_lexer": "ipython3",
   "version": "3.7.3"
  }
 },
 "nbformat": 4,
 "nbformat_minor": 2
}
