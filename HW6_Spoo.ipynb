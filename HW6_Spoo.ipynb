{
 "cells": [
  {
   "cell_type": "code",
   "execution_count": 21,
   "metadata": {},
   "outputs": [
    {
     "name": "stdout",
     "output_type": "stream",
     "text": [
      "1\n",
      "2\n",
      "Fizz\n",
      "4\n",
      "Buzz\n",
      "Fizz\n",
      "7\n",
      "8\n",
      "Fizz\n",
      "Buzz\n",
      "11\n",
      "Fizz\n",
      "13\n",
      "14\n",
      "FizzBuzz\n",
      "16\n",
      "17\n",
      "Fizz\n",
      "19\n",
      "Buzz\n",
      "Fizz\n",
      "22\n",
      "23\n",
      "Fizz\n",
      "Buzz\n",
      "26\n",
      "Fizz\n",
      "28\n",
      "29\n",
      "FizzBuzz\n",
      "31\n",
      "32\n",
      "Fizz\n",
      "34\n",
      "Buzz\n",
      "Fizz\n",
      "37\n",
      "38\n",
      "Fizz\n",
      "Buzz\n",
      "41\n",
      "Fizz\n",
      "43\n",
      "44\n",
      "FizzBuzz\n",
      "46\n",
      "47\n",
      "Fizz\n",
      "49\n",
      "Buzz\n",
      "Fizz\n",
      "52\n",
      "53\n",
      "Fizz\n",
      "Buzz\n",
      "56\n",
      "Fizz\n",
      "58\n",
      "59\n",
      "FizzBuzz\n",
      "61\n",
      "62\n",
      "Fizz\n",
      "64\n",
      "Buzz\n",
      "Fizz\n",
      "67\n",
      "68\n",
      "Fizz\n",
      "Buzz\n",
      "71\n",
      "Fizz\n",
      "73\n",
      "74\n",
      "FizzBuzz\n",
      "76\n",
      "77\n",
      "Fizz\n",
      "79\n",
      "Buzz\n",
      "Fizz\n",
      "82\n",
      "83\n",
      "Fizz\n",
      "Buzz\n",
      "86\n",
      "Fizz\n",
      "88\n",
      "89\n",
      "FizzBuzz\n",
      "91\n",
      "92\n",
      "Fizz\n",
      "94\n",
      "Buzz\n",
      "Fizz\n",
      "97\n",
      "98\n",
      "Fizz\n",
      "Buzz\n"
     ]
    }
   ],
   "source": [
    "#Taylor Spoo\n",
    "#10/7/19\n",
    "\n",
    "#FizzBuzz Problem\n",
    "\n",
    "for i in range(1,101):\n",
    "    if i%15 == 0:\n",
    "        print (\"FizzBuzz\")\n",
    "    elif i%3 == 0:\n",
    "        print(\"Fizz\")\n",
    "    elif i%5 == 0:\n",
    "        print(\"Buzz\")\n",
    "    else: print(i)\n",
    "    "
   ]
  },
  {
   "cell_type": "code",
   "execution_count": 24,
   "metadata": {},
   "outputs": [
    {
     "data": {
      "text/plain": [
       "Text(0, 0.5, 'Heat Capcity [J/K]')"
      ]
     },
     "execution_count": 24,
     "metadata": {},
     "output_type": "execute_result"
    },
    {
     "data": {
      "image/png": "[encoded data removed]",
      "text/plain": [
       "<Figure size 432x288 with 1 Axes>"
      ]
     },
     "metadata": {
      "needs_background": "light"
     },
     "output_type": "display_data"
    }
   ],
   "source": [
    "#Heat Capacity of a Solid Problem\n",
    "import numpy as np\n",
    "from matplotlib import pyplot as plt\n",
    "\n",
    "V = 0.001 #m^3 volume of the solid\n",
    "ro = 6.022e28 #1/m^3 number desnity of atoms\n",
    "kb = 1.38e-23 #(m^3kg)/(s^2K) Boltzmann Constant\n",
    "DT = 428 #K Debye Temp\n",
    "N = 1000 # the number of slices\n",
    "a = 0 # intial temp\n",
    "\n",
    "def func(x):\n",
    "    return ((x**4*np.exp(x))/((np.exp(x)-1)**2))\n",
    "\n",
    "def cv(T):\n",
    "    b = DT/T # end temp\n",
    "    h = (b-a)/N # width of each slice\n",
    "    s = 0.5*(b)\n",
    "    for k in range(1,N+1):\n",
    "        s+=func(a+k*h)\n",
    "    I = h*s\n",
    "    con = (9*V*ro*kb*T**3)/DT**3 # constant in front of the integral\n",
    "    CV = con*I\n",
    "    return(CV)\n",
    "\n",
    "x_val = [] #These are the tempatures we plug in\n",
    "y_val = [] #These are the Cv we get out\n",
    "for t in range(5,501):\n",
    "    Cv = cv(t)\n",
    "    y_val.append(Cv)\n",
    "    x_val.append(t)\n",
    "\n",
    "plt.plot(x_val,y_val)\n",
    "plt.grid()\n",
    "plt.xlabel(\"Tempeture [K]\")\n",
    "plt.ylabel(\"Heat Capcity [J/K]\")"
   ]
  },
  {
   "cell_type": "code",
   "execution_count": null,
   "metadata": {},
   "outputs": [],
   "source": []
  }
 ],
 "metadata": {
  "kernelspec": {
   "display_name": "Python 3",
   "language": "python",
   "name": "python3"
  },
  "language_info": {
   "codemirror_mode": {
    "name": "ipython",
    "version": 3
   },
   "file_extension": ".py",
   "mimetype": "text/x-python",
   "name": "python",
   "nbconvert_exporter": "python",
   "pygments_lexer": "ipython3",
   "version": "3.7.3"
  }
 },
 "nbformat": 4,
 "nbformat_minor": 2
}
